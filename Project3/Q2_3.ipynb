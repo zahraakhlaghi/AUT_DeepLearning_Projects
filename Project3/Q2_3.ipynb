{
 "cells": [
  {
   "cell_type": "code",
   "execution_count": 63,
   "metadata": {
    "id": "jWVYGqjE4Wqb",
    "executionInfo": {
     "status": "ok",
     "timestamp": 1701433761355,
     "user_tz": -210,
     "elapsed": 834,
     "user": {
      "displayName": "Zahra Akhlaghi",
      "userId": "17816264335018384914"
     }
    }
   },
   "outputs": [],
   "source": [
    "import torch\n",
    "import torch.nn as nn\n",
    "import torch.optim as optim\n",
    "from torch.utils.data import DataLoader\n",
    "import numpy as np\n",
    "from sklearn.neural_network import MLPClassifier\n",
    "from sklearn.model_selection import train_test_split\n",
    "from sklearn.metrics import f1_score\n",
    "from sklearn.preprocessing import StandardScaler\n",
    "from sklearn.datasets import fetch_openml\n",
    "import scipy.io\n",
    "import numpy as np\n",
    "import pandas as pd"
   ]
  },
  {
   "cell_type": "code",
   "execution_count": 80,
   "metadata": {
    "id": "qFeYT7Td4grD",
    "executionInfo": {
     "status": "ok",
     "timestamp": 1701434228178,
     "user_tz": -210,
     "elapsed": 8,
     "user": {
      "displayName": "Zahra Akhlaghi",
      "userId": "17816264335018384914"
     }
    }
   },
   "outputs": [],
   "source": [
    "class MLP(nn.Module):\n",
    "    def __init__(self, input_size, hidden_size1, hidden_size2,hidden_size3,output_size):\n",
    "        super(MLP, self).__init__()\n",
    "        self.fc1 = nn.Linear(input_size, hidden_size1)\n",
    "        self.relu1 = nn.ReLU()\n",
    "        self.fc2 = nn.Linear(hidden_size1, hidden_size2)\n",
    "        self.relu2 = nn.ReLU()\n",
    "        self.fc3 = nn.Linear(hidden_size2, hidden_size3)\n",
    "        self.relu3 = nn.ReLU()\n",
    "        self.fc4 = nn.Linear(hidden_size3, output_size)\n",
    "        self.relu4 = nn.ReLU()\n",
    "\n",
    "    def forward(self, x):\n",
    "        x = self.fc1(x)\n",
    "        x = self.relu1(x)\n",
    "        x = self.fc2(x)\n",
    "        x = self.relu2(x)\n",
    "        x = self.fc3(x)\n",
    "        x = self.relu3(x)\n",
    "        x = self.fc4(x)\n",
    "        x = self.relu4(x)\n",
    "        return x"
   ]
  },
  {
   "cell_type": "code",
   "execution_count": 65,
   "metadata": {
    "colab": {
     "base_uri": "https://localhost:8080/"
    },
    "executionInfo": {
     "elapsed": 3287,
     "status": "ok",
     "timestamp": 1701433766641,
     "user": {
      "displayName": "Zahra Akhlaghi",
      "userId": "17816264335018384914"
     },
     "user_tz": -210
    },
    "id": "XxgZ7oFV5TD2",
    "outputId": "af9854cd-ae6d-4413-8153-f23babc7516a"
   },
   "outputs": [
    {
     "output_type": "stream",
     "name": "stdout",
     "text": [
      "Drive already mounted at /content/drive; to attempt to forcibly remount, call drive.mount(\"/content/drive\", force_remount=True).\n"
     ]
    }
   ],
   "source": [
    "from google.colab import drive\n",
    "import pandas as pd\n",
    "drive.mount('/content/drive')"
   ]
  },
  {
   "cell_type": "markdown",
   "source": [
    "## Lung Dataset"
   ],
   "metadata": {
    "id": "IphYObEqBzb0"
   }
  },
  {
   "cell_type": "code",
   "execution_count": 66,
   "metadata": {
    "id": "JiQbCvcl6l9C",
    "executionInfo": {
     "status": "ok",
     "timestamp": 1701433768658,
     "user_tz": -210,
     "elapsed": 1285,
     "user": {
      "displayName": "Zahra Akhlaghi",
      "userId": "17816264335018384914"
     }
    }
   },
   "outputs": [],
   "source": [
    "mat = scipy.io.loadmat(\"/content/drive/My Drive/datasets/lung.mat\")\n",
    "\n",
    "con_list = [[element for element in upperElement] for upperElement in mat['X']]\n",
    "\n",
    "labels = mat['Y']\n",
    "labels = np.array(labels.flatten())\n",
    "\n",
    "df = pd.DataFrame(con_list)"
   ]
  },
  {
   "cell_type": "code",
   "execution_count": 67,
   "metadata": {
    "colab": {
     "base_uri": "https://localhost:8080/"
    },
    "executionInfo": {
     "elapsed": 16,
     "status": "ok",
     "timestamp": 1701433768662,
     "user": {
      "displayName": "Zahra Akhlaghi",
      "userId": "17816264335018384914"
     },
     "user_tz": -210
    },
    "id": "Rlv1djfn673_",
    "outputId": "b70c0705-7a37-40ae-8956-6adf693f3e0c"
   },
   "outputs": [
    {
     "output_type": "execute_result",
     "data": {
      "text/plain": [
       "numpy.ndarray"
      ]
     },
     "metadata": {},
     "execution_count": 67
    }
   ],
   "source": [
    "from sklearn.preprocessing import MinMaxScaler\n",
    "\n",
    "sc = MinMaxScaler(feature_range=(0, 1))\n",
    "sc.fit(df)\n",
    "X = sc.transform(df)\n",
    "type(X)"
   ]
  },
  {
   "cell_type": "code",
   "execution_count": 68,
   "metadata": {
    "id": "gafbqnpXAOLs",
    "executionInfo": {
     "status": "ok",
     "timestamp": 1701433773499,
     "user_tz": -210,
     "elapsed": 590,
     "user": {
      "displayName": "Zahra Akhlaghi",
      "userId": "17816264335018384914"
     }
    }
   },
   "outputs": [],
   "source": [
    "from sklearn.model_selection import train_test_split\n",
    "\n",
    "X_train, X_test, y_train, y_test = train_test_split(X, labels, test_size=0.2, random_state=42)"
   ]
  },
  {
   "cell_type": "code",
   "execution_count": 69,
   "metadata": {
    "colab": {
     "base_uri": "https://localhost:8080/"
    },
    "executionInfo": {
     "elapsed": 10,
     "status": "ok",
     "timestamp": 1701433774741,
     "user": {
      "displayName": "Zahra Akhlaghi",
      "userId": "17816264335018384914"
     },
     "user_tz": -210
    },
    "id": "DaPIAurgCCmR",
    "outputId": "47fd0f06-bd9c-4f21-ed9f-96911205524d"
   },
   "outputs": [
    {
     "output_type": "stream",
     "name": "stderr",
     "text": [
      "/usr/local/lib/python3.10/dist-packages/sklearn/preprocessing/_encoders.py:868: FutureWarning: `sparse` was renamed to `sparse_output` in version 1.2 and will be removed in 1.4. `sparse_output` is ignored unless you leave `sparse` to its default value.\n",
      "  warnings.warn(\n"
     ]
    }
   ],
   "source": [
    "from sklearn.preprocessing import OneHotEncoder\n",
    "from torch.utils.data import DataLoader, TensorDataset\n",
    "\n",
    "\n",
    "X_train_tensor = torch.FloatTensor(X_train)\n",
    "X_test_tensor = torch.FloatTensor(X_test)\n",
    "\n",
    "\n",
    "# One-hot encode the target labels\n",
    "encoder = OneHotEncoder(sparse=False, categories='auto')\n",
    "y_train_onehot = torch.FloatTensor(encoder.fit_transform(y_train.reshape(-1, 1)))\n",
    "y_test_onehot = torch.FloatTensor(encoder.transform(y_test.reshape(-1, 1)))\n",
    "\n",
    "# Create DataLoader for training and testing sets\n",
    "train_dataset = TensorDataset(X_train_tensor, y_train_onehot)\n",
    "train_loader = DataLoader(train_dataset, batch_size=8, shuffle=True)\n",
    "\n",
    "test_dataset = TensorDataset(X_test_tensor, y_test_onehot)\n",
    "test_loader = DataLoader(test_dataset, batch_size=8, shuffle=False)\n"
   ]
  },
  {
   "cell_type": "code",
   "execution_count": 70,
   "metadata": {
    "id": "rjrC5BMN68ha",
    "executionInfo": {
     "status": "ok",
     "timestamp": 1701433783825,
     "user_tz": -210,
     "elapsed": 437,
     "user": {
      "displayName": "Zahra Akhlaghi",
      "userId": "17816264335018384914"
     }
    }
   },
   "outputs": [],
   "source": [
    "# Set hyperparameters\n",
    "input_size = X.shape[1]\n",
    "hidden_size1 = 256\n",
    "hidden_size2 = 128\n",
    "hidden_size3 = 64\n",
    "output_size = 5"
   ]
  },
  {
   "cell_type": "code",
   "execution_count": 71,
   "metadata": {
    "id": "l6h_tqPC68j8",
    "executionInfo": {
     "status": "ok",
     "timestamp": 1701433786477,
     "user_tz": -210,
     "elapsed": 612,
     "user": {
      "displayName": "Zahra Akhlaghi",
      "userId": "17816264335018384914"
     }
    }
   },
   "outputs": [],
   "source": [
    "model = MLP(input_size, hidden_size1,hidden_size2, hidden_size3,output_size)"
   ]
  },
  {
   "cell_type": "code",
   "execution_count": 72,
   "metadata": {
    "id": "XsLwH5hb68ms",
    "executionInfo": {
     "status": "ok",
     "timestamp": 1701433788322,
     "user_tz": -210,
     "elapsed": 11,
     "user": {
      "displayName": "Zahra Akhlaghi",
      "userId": "17816264335018384914"
     }
    }
   },
   "outputs": [],
   "source": [
    "criterion = nn.CrossEntropyLoss()\n",
    "optimizer = optim.Adam(model.parameters(), lr=0.01)"
   ]
  },
  {
   "cell_type": "code",
   "execution_count": 73,
   "metadata": {
    "colab": {
     "base_uri": "https://localhost:8080/"
    },
    "executionInfo": {
     "elapsed": 52945,
     "status": "ok",
     "timestamp": 1701433843817,
     "user": {
      "displayName": "Zahra Akhlaghi",
      "userId": "17816264335018384914"
     },
     "user_tz": -210
    },
    "id": "1FgvagaU7vPE",
    "outputId": "8f5eb3d5-e21a-4aa8-9a0f-41f2cdcf05f7"
   },
   "outputs": [
    {
     "output_type": "stream",
     "name": "stdout",
     "text": [
      "Epoch [10/100], Loss: 1.6094\n",
      "Epoch [20/100], Loss: 1.6094\n",
      "Epoch [30/100], Loss: 1.6094\n",
      "Epoch [40/100], Loss: 1.6094\n",
      "Epoch [50/100], Loss: 1.6094\n",
      "Epoch [60/100], Loss: 1.6094\n",
      "Epoch [70/100], Loss: 1.6094\n",
      "Epoch [80/100], Loss: 1.6094\n",
      "Epoch [90/100], Loss: 1.6094\n",
      "Epoch [100/100], Loss: 1.6094\n"
     ]
    }
   ],
   "source": [
    "num_epochs =100\n",
    "for epoch in range(num_epochs):\n",
    "    for inputs, labels in train_loader:\n",
    "      optimizer.zero_grad()\n",
    "      outputs = model(inputs)\n",
    "      loss = criterion(outputs, labels.argmax(dim=1).long())\n",
    "      loss.backward()\n",
    "      optimizer.step()\n",
    "\n",
    "    if (epoch + 1) % 10 == 0:\n",
    "        print(f'Epoch [{epoch+1}/{num_epochs}], Loss: {loss.item():.4f}')"
   ]
  },
  {
   "cell_type": "code",
   "execution_count": 74,
   "metadata": {
    "colab": {
     "base_uri": "https://localhost:8080/"
    },
    "executionInfo": {
     "elapsed": 17,
     "status": "ok",
     "timestamp": 1701433843818,
     "user": {
      "displayName": "Zahra Akhlaghi",
      "userId": "17816264335018384914"
     },
     "user_tz": -210
    },
    "id": "VAdlILpHG4uQ",
    "outputId": "3081a3a0-ff92-408c-9f37-466eac40f3a0"
   },
   "outputs": [
    {
     "output_type": "stream",
     "name": "stdout",
     "text": [
      "f1-score: 0.0\n"
     ]
    }
   ],
   "source": [
    "from sklearn.metrics import f1_score\n",
    "\n",
    "model.eval()\n",
    "\n",
    "all_predictions = []\n",
    "all_true_labels = []\n",
    "\n",
    "def get_cluster(arr):\n",
    "  v=[]\n",
    "  for a in arr:\n",
    "    m, i = max((v, i) for i, v in enumerate(a))\n",
    "    if m==0:\n",
    "      v.append(0)\n",
    "    else:\n",
    "      v.append(i+1)\n",
    "  return v\n",
    "\n",
    "with torch.no_grad():\n",
    "    for inputs, labels in test_loader:\n",
    "        outputs = model(inputs)\n",
    "        all_predictions.extend(get_cluster(outputs.numpy()))\n",
    "        all_true_labels.extend(get_cluster(labels.numpy()))\n",
    "\n",
    "# Convert lists to NumPy arrays\n",
    "predicted_labels = np.array(all_predictions)\n",
    "true_labels = np.array(all_true_labels)\n",
    "\n",
    "# Calculate F1-score\n",
    "f1 = f1_score(true_labels, predicted_labels,  average='macro')\n",
    "print(f'f1-score: {f1}')"
   ]
  },
  {
   "cell_type": "markdown",
   "source": [
    "balance lung dataset"
   ],
   "metadata": {
    "id": "Vm58f22xXJM6"
   }
  },
  {
   "cell_type": "code",
   "source": [
    "mat = scipy.io.loadmat(\"/content/drive/My Drive/datasets/lung.mat\")\n",
    "\n",
    "con_list = [[element for element in upperElement] for upperElement in mat['X']]\n",
    "\n",
    "\n",
    "df = pd.DataFrame(con_list)\n",
    "\n",
    "labels = mat['Y']\n",
    "labels = np.array(labels.flatten())\n",
    "\n",
    "df['label'] = labels\n",
    "df['label'].value_counts()"
   ],
   "metadata": {
    "colab": {
     "base_uri": "https://localhost:8080/"
    },
    "id": "Y2h0jRUmXRtc",
    "executionInfo": {
     "status": "ok",
     "timestamp": 1701434244774,
     "user_tz": -210,
     "elapsed": 1095,
     "user": {
      "displayName": "Zahra Akhlaghi",
      "userId": "17816264335018384914"
     }
    },
    "outputId": "55e70509-def6-4fdc-846b-d193387f7ced"
   },
   "execution_count": 81,
   "outputs": [
    {
     "output_type": "execute_result",
     "data": {
      "text/plain": [
       "1    139\n",
       "3     21\n",
       "4     20\n",
       "2     17\n",
       "5      6\n",
       "Name: label, dtype: int64"
      ]
     },
     "metadata": {},
     "execution_count": 81
    }
   ]
  },
  {
   "cell_type": "code",
   "source": [
    "import pandas as pd\n",
    "from sklearn.utils import resample\n",
    "\n",
    "# Assuming your DataFrame is named 'df' and has a column 'cluster'\n",
    "\n",
    "df_1 = df[df['label'] == 1]\n",
    "df_2 = df[df['label'] == 2]\n",
    "df_3 = df[df['label'] == 3]\n",
    "df_4 = df[df['label'] == 4]\n",
    "df_5 = df[df['label'] == 5]\n",
    "\n",
    "\n",
    "\n",
    "\n",
    "oversampled_2 = resample(df_2, replace=True, n_samples=139, random_state=42)\n",
    "oversampled_3 = resample(df_3, replace=True, n_samples=139, random_state=42)\n",
    "oversampled_4 = resample(df_4, replace=True, n_samples=139, random_state=42)\n",
    "oversampled_5 = resample(df_5, replace=True, n_samples=139, random_state=42)\n",
    "balanced_df = pd.concat([df_1, oversampled_2,oversampled_3,oversampled_4,oversampled_5])\n",
    "\n",
    "\n",
    "balanced_df['label'].value_counts()"
   ],
   "metadata": {
    "colab": {
     "base_uri": "https://localhost:8080/"
    },
    "id": "xD37ryzpXSUS",
    "executionInfo": {
     "status": "ok",
     "timestamp": 1701434244776,
     "user_tz": -210,
     "elapsed": 15,
     "user": {
      "displayName": "Zahra Akhlaghi",
      "userId": "17816264335018384914"
     }
    },
    "outputId": "7c282a64-25da-419d-d6c9-14621dad6a6a"
   },
   "execution_count": 82,
   "outputs": [
    {
     "output_type": "execute_result",
     "data": {
      "text/plain": [
       "1    139\n",
       "2    139\n",
       "3    139\n",
       "4    139\n",
       "5    139\n",
       "Name: label, dtype: int64"
      ]
     },
     "metadata": {},
     "execution_count": 82
    }
   ]
  },
  {
   "cell_type": "code",
   "source": [
    "y = np.array(balanced_df.label)\n",
    "\n",
    "from sklearn.preprocessing import MinMaxScaler\n",
    "\n",
    "df = balanced_df.drop('label', axis=1)\n",
    "\n",
    "sc = MinMaxScaler(feature_range=(0, 1))\n",
    "sc.fit(df)\n",
    "X = sc.transform(df)\n",
    "type(X)"
   ],
   "metadata": {
    "colab": {
     "base_uri": "https://localhost:8080/"
    },
    "id": "wbaINAoQXSXI",
    "executionInfo": {
     "status": "ok",
     "timestamp": 1701434247445,
     "user_tz": -210,
     "elapsed": 573,
     "user": {
      "displayName": "Zahra Akhlaghi",
      "userId": "17816264335018384914"
     }
    },
    "outputId": "fef2437b-7703-4c4d-cb2b-0bece311f127"
   },
   "execution_count": 83,
   "outputs": [
    {
     "output_type": "execute_result",
     "data": {
      "text/plain": [
       "numpy.ndarray"
      ]
     },
     "metadata": {},
     "execution_count": 83
    }
   ]
  },
  {
   "cell_type": "code",
   "source": [
    "from sklearn.model_selection import train_test_split\n",
    "from sklearn.preprocessing import OneHotEncoder\n",
    "from torch.utils.data import DataLoader, TensorDataset\n",
    "\n",
    "labels = y.flatten()\n",
    "X_train, X_test, y_train, y_test = train_test_split(X, labels, test_size=0.2, random_state=42)\n",
    "\n",
    "X_train_tensor = torch.FloatTensor(X_train)\n",
    "X_test_tensor = torch.FloatTensor(X_test)\n",
    "\n",
    "\n",
    "# One-hot encode the target labels\n",
    "encoder = OneHotEncoder(sparse=False, categories='auto')\n",
    "y_train_onehot = torch.FloatTensor(encoder.fit_transform(y_train.reshape(-1, 1)))\n",
    "y_test_onehot = torch.FloatTensor(encoder.transform(y_test.reshape(-1, 1)))\n",
    "\n",
    "# Create DataLoader for training and testing sets\n",
    "train_dataset = TensorDataset(X_train_tensor, y_train_onehot)\n",
    "train_loader = DataLoader(train_dataset, batch_size=8, shuffle=True)\n",
    "\n",
    "test_dataset = TensorDataset(X_test_tensor, y_test_onehot)\n",
    "test_loader = DataLoader(test_dataset, batch_size=8, shuffle=False)\n"
   ],
   "metadata": {
    "colab": {
     "base_uri": "https://localhost:8080/"
    },
    "id": "mxIAz0ydXR0f",
    "executionInfo": {
     "status": "ok",
     "timestamp": 1701434248059,
     "user_tz": -210,
     "elapsed": 13,
     "user": {
      "displayName": "Zahra Akhlaghi",
      "userId": "17816264335018384914"
     }
    },
    "outputId": "24a4f663-3fb0-4893-93e0-453dc70af9c4"
   },
   "execution_count": 84,
   "outputs": [
    {
     "output_type": "stream",
     "name": "stderr",
     "text": [
      "/usr/local/lib/python3.10/dist-packages/sklearn/preprocessing/_encoders.py:868: FutureWarning: `sparse` was renamed to `sparse_output` in version 1.2 and will be removed in 1.4. `sparse_output` is ignored unless you leave `sparse` to its default value.\n",
      "  warnings.warn(\n"
     ]
    }
   ]
  },
  {
   "cell_type": "code",
   "source": [
    "# Set hyperparameters\n",
    "# Set hyperparameters\n",
    "input_size = X.shape[1]\n",
    "hidden_size1 = 256\n",
    "hidden_size2 = 128\n",
    "hidden_size3 = 64\n",
    "output_size = 5\n",
    "\n",
    "model = MLP(input_size, hidden_size1,hidden_size2, hidden_size3,output_size)\n",
    "criterion = nn.CrossEntropyLoss()\n",
    "optimizer = optim.Adam(model.parameters(), lr=0.01)"
   ],
   "metadata": {
    "id": "VUssaLlUREcm",
    "executionInfo": {
     "status": "ok",
     "timestamp": 1701434259159,
     "user_tz": -210,
     "elapsed": 826,
     "user": {
      "displayName": "Zahra Akhlaghi",
      "userId": "17816264335018384914"
     }
    }
   },
   "execution_count": 85,
   "outputs": []
  },
  {
   "cell_type": "code",
   "source": [
    "num_epochs =100\n",
    "for epoch in range(num_epochs):\n",
    "    for inputs, labels in train_loader:\n",
    "      optimizer.zero_grad()\n",
    "      outputs = model(inputs)\n",
    "      loss = criterion(outputs, labels.argmax(dim=1).long())\n",
    "      loss.backward()\n",
    "      optimizer.step()\n",
    "\n",
    "    if (epoch + 1) % 10 == 0:\n",
    "        print(f'Epoch [{epoch+1}/{num_epochs}], Loss: {loss.item():.4f}')"
   ],
   "metadata": {
    "id": "y9BIEfrYREfN",
    "colab": {
     "base_uri": "https://localhost:8080/"
    },
    "executionInfo": {
     "status": "ok",
     "timestamp": 1701434421853,
     "user_tz": -210,
     "elapsed": 159838,
     "user": {
      "displayName": "Zahra Akhlaghi",
      "userId": "17816264335018384914"
     }
    },
    "outputId": "d5439ca3-d60c-4acd-f48c-25aafb91dd3e"
   },
   "execution_count": 86,
   "outputs": [
    {
     "output_type": "stream",
     "name": "stdout",
     "text": [
      "Epoch [10/100], Loss: 1.6094\n",
      "Epoch [20/100], Loss: 1.6094\n",
      "Epoch [30/100], Loss: 1.6094\n",
      "Epoch [40/100], Loss: 1.6094\n",
      "Epoch [50/100], Loss: 1.6094\n",
      "Epoch [60/100], Loss: 1.6094\n",
      "Epoch [70/100], Loss: 1.6094\n",
      "Epoch [80/100], Loss: 1.6094\n",
      "Epoch [90/100], Loss: 1.6094\n",
      "Epoch [100/100], Loss: 1.6094\n"
     ]
    }
   ]
  },
  {
   "cell_type": "code",
   "source": [
    "from sklearn.metrics import f1_score\n",
    "\n",
    "model.eval()\n",
    "\n",
    "all_predictions = []\n",
    "all_true_labels = []\n",
    "\n",
    "def get_cluster(arr):\n",
    "  v=[]\n",
    "  for a in arr:\n",
    "    m, i = max((v, i) for i, v in enumerate(a))\n",
    "    if m==0:\n",
    "      v.append(0)\n",
    "    else:\n",
    "      v.append(i+1)\n",
    "  return v\n",
    "\n",
    "with torch.no_grad():\n",
    "    for inputs, labels in test_loader:\n",
    "        outputs = model(inputs)\n",
    "        all_predictions.extend(get_cluster(outputs.numpy()))\n",
    "        all_true_labels.extend(get_cluster(labels.numpy()))\n",
    "\n",
    "# Convert lists to NumPy arrays\n",
    "predicted_labels = np.array(all_predictions)\n",
    "true_labels = np.array(all_true_labels)\n",
    "\n",
    "# Calculate F1-score\n",
    "f1 = f1_score(true_labels, predicted_labels,  average='macro')\n",
    "print(f'f1-score: {f1}')"
   ],
   "metadata": {
    "id": "4ScBaCRoREiE",
    "colab": {
     "base_uri": "https://localhost:8080/"
    },
    "executionInfo": {
     "status": "ok",
     "timestamp": 1701434421854,
     "user_tz": -210,
     "elapsed": 26,
     "user": {
      "displayName": "Zahra Akhlaghi",
      "userId": "17816264335018384914"
     }
    },
    "outputId": "a852a18b-f28c-4ec5-b5b7-14344f11fce3"
   },
   "execution_count": 87,
   "outputs": [
    {
     "output_type": "stream",
     "name": "stdout",
     "text": [
      "f1-score: 0.0\n"
     ]
    }
   ]
  },
  {
   "cell_type": "markdown",
   "source": [
    "## Ids2 Dataset"
   ],
   "metadata": {
    "id": "KybaKLt-EmpX"
   }
  },
  {
   "cell_type": "code",
   "execution_count": 88,
   "metadata": {
    "id": "rqVbmdi88PUB",
    "executionInfo": {
     "status": "ok",
     "timestamp": 1701434432576,
     "user_tz": -210,
     "elapsed": 5,
     "user": {
      "displayName": "Zahra Akhlaghi",
      "userId": "17816264335018384914"
     }
    }
   },
   "outputs": [],
   "source": [
    "mat = scipy.io.loadmat(\"/content/drive/My Drive/datasets/ids2.mat\")\n",
    "\n",
    "con_list = [[element for element in upperElement] for upperElement in mat['data']]\n",
    "\n",
    "labels = mat['label']\n",
    "labels = np.array(labels.flatten())\n",
    "\n",
    "columns = ['data_x', 'data_y']\n",
    "df = pd.DataFrame(con_list, columns=columns)"
   ]
  },
  {
   "cell_type": "code",
   "source": [
    "from sklearn.preprocessing import MinMaxScaler\n",
    "\n",
    "sc = MinMaxScaler(feature_range=(0, 1))\n",
    "sc.fit(df)\n",
    "X = sc.transform(df)\n",
    "type(X)"
   ],
   "metadata": {
    "colab": {
     "base_uri": "https://localhost:8080/"
    },
    "id": "taSqZ9yhEsJZ",
    "executionInfo": {
     "status": "ok",
     "timestamp": 1701434433243,
     "user_tz": -210,
     "elapsed": 5,
     "user": {
      "displayName": "Zahra Akhlaghi",
      "userId": "17816264335018384914"
     }
    },
    "outputId": "ff29c668-bdf0-4da1-f561-9c99d288db78"
   },
   "execution_count": 89,
   "outputs": [
    {
     "output_type": "execute_result",
     "data": {
      "text/plain": [
       "numpy.ndarray"
      ]
     },
     "metadata": {},
     "execution_count": 89
    }
   ]
  },
  {
   "cell_type": "code",
   "source": [
    "from sklearn.model_selection import train_test_split\n",
    "\n",
    "X_train, X_test, y_train, y_test = train_test_split(X, labels, test_size=0.2, random_state=42)"
   ],
   "metadata": {
    "id": "GujUZaslE2wy",
    "executionInfo": {
     "status": "ok",
     "timestamp": 1701434434088,
     "user_tz": -210,
     "elapsed": 15,
     "user": {
      "displayName": "Zahra Akhlaghi",
      "userId": "17816264335018384914"
     }
    }
   },
   "execution_count": 90,
   "outputs": []
  },
  {
   "cell_type": "code",
   "source": [
    "from sklearn.preprocessing import OneHotEncoder\n",
    "from torch.utils.data import DataLoader, TensorDataset\n",
    "\n",
    "# Convert data to PyTorch tensors\n",
    "X_train_tensor = torch.FloatTensor(X_train)\n",
    "X_test_tensor = torch.FloatTensor(X_test)\n",
    "\n",
    "# One-hot encode the target labels\n",
    "encoder = OneHotEncoder(sparse=False, categories='auto')\n",
    "y_train_onehot = torch.FloatTensor(encoder.fit_transform(y_train.reshape(-1, 1)))\n",
    "y_test_onehot = torch.FloatTensor(encoder.transform(y_test.reshape(-1, 1)))\n",
    "\n",
    "# Create DataLoader for training and testing sets\n",
    "train_dataset = TensorDataset(X_train_tensor, y_train_onehot)\n",
    "train_loader = DataLoader(train_dataset, batch_size=8, shuffle=True)\n",
    "\n",
    "test_dataset = TensorDataset(X_test_tensor, y_test_onehot)\n",
    "test_loader = DataLoader(test_dataset, batch_size=8, shuffle=False)"
   ],
   "metadata": {
    "colab": {
     "base_uri": "https://localhost:8080/"
    },
    "id": "9fL7sB8RE6q3",
    "executionInfo": {
     "status": "ok",
     "timestamp": 1701434434910,
     "user_tz": -210,
     "elapsed": 20,
     "user": {
      "displayName": "Zahra Akhlaghi",
      "userId": "17816264335018384914"
     }
    },
    "outputId": "41bd5548-8217-42ab-f653-bd6352ba7e82"
   },
   "execution_count": 91,
   "outputs": [
    {
     "output_type": "stream",
     "name": "stderr",
     "text": [
      "/usr/local/lib/python3.10/dist-packages/sklearn/preprocessing/_encoders.py:868: FutureWarning: `sparse` was renamed to `sparse_output` in version 1.2 and will be removed in 1.4. `sparse_output` is ignored unless you leave `sparse` to its default value.\n",
      "  warnings.warn(\n"
     ]
    }
   ]
  },
  {
   "cell_type": "code",
   "source": [
    "# Set hyperparameters\n",
    "input_size = X.shape[1]\n",
    "hidden_size1 = 256\n",
    "hidden_size2 = 128\n",
    "hidden_size2 = 64\n",
    "output_size = 5"
   ],
   "metadata": {
    "id": "i5gIbQ_0E-Up",
    "executionInfo": {
     "status": "ok",
     "timestamp": 1701434438581,
     "user_tz": -210,
     "elapsed": 577,
     "user": {
      "displayName": "Zahra Akhlaghi",
      "userId": "17816264335018384914"
     }
    }
   },
   "execution_count": 92,
   "outputs": []
  },
  {
   "cell_type": "code",
   "source": [
    "model = MLP(input_size, hidden_size1,hidden_size2, hidden_size3,output_size)"
   ],
   "metadata": {
    "id": "KVRUkOb_FDOd",
    "executionInfo": {
     "status": "ok",
     "timestamp": 1701434439159,
     "user_tz": -210,
     "elapsed": 9,
     "user": {
      "displayName": "Zahra Akhlaghi",
      "userId": "17816264335018384914"
     }
    }
   },
   "execution_count": 93,
   "outputs": []
  },
  {
   "cell_type": "code",
   "source": [
    "criterion = nn.CrossEntropyLoss()\n",
    "optimizer = optim.Adam(model.parameters(), lr=0.001)"
   ],
   "metadata": {
    "id": "_7Adm0heFSLf",
    "executionInfo": {
     "status": "ok",
     "timestamp": 1701434510268,
     "user_tz": -210,
     "elapsed": 692,
     "user": {
      "displayName": "Zahra Akhlaghi",
      "userId": "17816264335018384914"
     }
    }
   },
   "execution_count": 97,
   "outputs": []
  },
  {
   "cell_type": "code",
   "source": [
    "num_epochs =100\n",
    "for epoch in range(num_epochs):\n",
    "    for inputs, labels in train_loader:\n",
    "      optimizer.zero_grad()\n",
    "      outputs = model(inputs)\n",
    "      loss = criterion(outputs, labels.argmax(dim=1).long())\n",
    "      loss.backward()\n",
    "      optimizer.step()\n",
    "\n",
    "    if (epoch + 1) % 10 == 0:\n",
    "        print(f'Epoch [{epoch+1}/{num_epochs}], Loss: {loss.item():.4f}')"
   ],
   "metadata": {
    "colab": {
     "base_uri": "https://localhost:8080/"
    },
    "id": "_zr1wAMpFWk6",
    "executionInfo": {
     "status": "ok",
     "timestamp": 1701434589575,
     "user_tz": -210,
     "elapsed": 78713,
     "user": {
      "displayName": "Zahra Akhlaghi",
      "userId": "17816264335018384914"
     }
    },
    "outputId": "4957889a-a758-4961-e8e0-be91e23e3716"
   },
   "execution_count": 98,
   "outputs": [
    {
     "output_type": "stream",
     "name": "stdout",
     "text": [
      "Epoch [10/100], Loss: 1.2071\n",
      "Epoch [20/100], Loss: 0.6035\n",
      "Epoch [30/100], Loss: 0.4024\n",
      "Epoch [40/100], Loss: 0.2012\n",
      "Epoch [50/100], Loss: 0.4024\n",
      "Epoch [60/100], Loss: 0.0000\n",
      "Epoch [70/100], Loss: 0.2012\n",
      "Epoch [80/100], Loss: 0.2012\n",
      "Epoch [90/100], Loss: 0.0000\n",
      "Epoch [100/100], Loss: 0.2012\n"
     ]
    }
   ]
  },
  {
   "cell_type": "code",
   "source": [
    "from sklearn.metrics import f1_score\n",
    "\n",
    "model.eval()\n",
    "\n",
    "all_predictions = []\n",
    "all_true_labels = []\n",
    "\n",
    "def get_cluster(arr):\n",
    "  v=[]\n",
    "  for a in arr:\n",
    "    m, i = max((v, i) for i, v in enumerate(a))\n",
    "    if m==0:\n",
    "      v.append(0)\n",
    "    else:\n",
    "      v.append(i+1)\n",
    "  return v\n",
    "\n",
    "with torch.no_grad():\n",
    "    for inputs, labels in test_loader:\n",
    "        outputs = model(inputs)\n",
    "        all_predictions.extend(get_cluster(outputs.numpy()))\n",
    "        all_true_labels.extend(get_cluster(labels.numpy()))\n",
    "\n",
    "# Convert lists to NumPy arrays\n",
    "predicted_labels = np.array(all_predictions)\n",
    "true_labels = np.array(all_true_labels)\n",
    "\n",
    "# Calculate F1-score\n",
    "f1 = f1_score(true_labels, predicted_labels,  average='macro')\n",
    "print(f'f1-score: {f1}')"
   ],
   "metadata": {
    "colab": {
     "base_uri": "https://localhost:8080/"
    },
    "id": "bqDHA4MwFbBZ",
    "executionInfo": {
     "status": "ok",
     "timestamp": 1701434589576,
     "user_tz": -210,
     "elapsed": 65,
     "user": {
      "displayName": "Zahra Akhlaghi",
      "userId": "17816264335018384914"
     }
    },
    "outputId": "7f3d1290-a9b0-4c9c-f84f-bcd3bc8d81f2"
   },
   "execution_count": 99,
   "outputs": [
    {
     "output_type": "stream",
     "name": "stdout",
     "text": [
      "f1-score: 0.3333333333333333\n"
     ]
    }
   ]
  },
  {
   "cell_type": "markdown",
   "source": [
    "balance ids2 dataset"
   ],
   "metadata": {
    "id": "Rnfkd3hTntsO"
   }
  },
  {
   "cell_type": "code",
   "source": [
    "mat = scipy.io.loadmat(\"/content/drive/My Drive/datasets/ids2.mat\")\n",
    "\n",
    "con_list = [[element for element in upperElement] for upperElement in mat['data']]\n",
    "\n",
    "labels = mat['label']\n",
    "labels = np.array(labels.flatten())\n",
    "\n",
    "columns = ['data_x', 'data_y']\n",
    "df = pd.DataFrame(con_list, columns=columns)\n",
    "df['label'] = labels\n",
    "df['label'].value_counts()"
   ],
   "metadata": {
    "colab": {
     "base_uri": "https://localhost:8080/"
    },
    "id": "FPwyUlTInHV9",
    "executionInfo": {
     "status": "ok",
     "timestamp": 1701434589578,
     "user_tz": -210,
     "elapsed": 55,
     "user": {
      "displayName": "Zahra Akhlaghi",
      "userId": "17816264335018384914"
     }
    },
    "outputId": "b482fedd-a69f-40bb-e082-722228499563"
   },
   "execution_count": 100,
   "outputs": [
    {
     "output_type": "execute_result",
     "data": {
      "text/plain": [
       "1    2000\n",
       "5     400\n",
       "4     400\n",
       "3     200\n",
       "2     200\n",
       "Name: label, dtype: int64"
      ]
     },
     "metadata": {},
     "execution_count": 100
    }
   ]
  },
  {
   "cell_type": "code",
   "source": [
    "import pandas as pd\n",
    "from sklearn.utils import resample\n",
    "\n",
    "# Assuming your DataFrame is named 'df' and has a column 'cluster'\n",
    "\n",
    "df_1 = df[df['label'] == 1]\n",
    "df_2 = df[df['label'] == 2]\n",
    "df_3 = df[df['label'] == 3]\n",
    "df_4 = df[df['label'] == 4]\n",
    "df_5 = df[df['label'] == 5]\n",
    "\n",
    "\n",
    "\n",
    "\n",
    "oversampled_2 = resample(df_2, replace=True, n_samples=2000, random_state=42)\n",
    "oversampled_3 = resample(df_3, replace=True, n_samples=2000, random_state=42)\n",
    "oversampled_4 = resample(df_4, replace=True, n_samples=2000, random_state=42)\n",
    "oversampled_5 = resample(df_5, replace=True, n_samples=2000, random_state=42)\n",
    "balanced_df = pd.concat([df_1, oversampled_2,oversampled_3,oversampled_4,oversampled_5])"
   ],
   "metadata": {
    "id": "n43aqoENnwK3",
    "executionInfo": {
     "status": "ok",
     "timestamp": 1701434589578,
     "user_tz": -210,
     "elapsed": 41,
     "user": {
      "displayName": "Zahra Akhlaghi",
      "userId": "17816264335018384914"
     }
    }
   },
   "execution_count": 101,
   "outputs": []
  },
  {
   "cell_type": "code",
   "source": [
    "balanced_df['label'].value_counts()"
   ],
   "metadata": {
    "colab": {
     "base_uri": "https://localhost:8080/"
    },
    "id": "T76DYLXAp5Zy",
    "executionInfo": {
     "status": "ok",
     "timestamp": 1701434589579,
     "user_tz": -210,
     "elapsed": 39,
     "user": {
      "displayName": "Zahra Akhlaghi",
      "userId": "17816264335018384914"
     }
    },
    "outputId": "68da3ddb-a507-44b7-e77b-abf4e5280eac"
   },
   "execution_count": 102,
   "outputs": [
    {
     "output_type": "execute_result",
     "data": {
      "text/plain": [
       "1    2000\n",
       "2    2000\n",
       "3    2000\n",
       "4    2000\n",
       "5    2000\n",
       "Name: label, dtype: int64"
      ]
     },
     "metadata": {},
     "execution_count": 102
    }
   ]
  },
  {
   "cell_type": "code",
   "source": [
    "y = np.array(balanced_df.label)\n",
    "\n",
    "from sklearn.preprocessing import MinMaxScaler\n",
    "\n",
    "df = balanced_df.drop('label', axis=1)\n",
    "\n",
    "sc = MinMaxScaler(feature_range=(0, 1))\n",
    "sc.fit(df)\n",
    "X = sc.transform(df)\n",
    "type(X)"
   ],
   "metadata": {
    "colab": {
     "base_uri": "https://localhost:8080/"
    },
    "id": "aUg8SVpurCxC",
    "executionInfo": {
     "status": "ok",
     "timestamp": 1701434589579,
     "user_tz": -210,
     "elapsed": 29,
     "user": {
      "displayName": "Zahra Akhlaghi",
      "userId": "17816264335018384914"
     }
    },
    "outputId": "98d9073f-be75-4a8f-fb12-0485de94cfba"
   },
   "execution_count": 103,
   "outputs": [
    {
     "output_type": "execute_result",
     "data": {
      "text/plain": [
       "numpy.ndarray"
      ]
     },
     "metadata": {},
     "execution_count": 103
    }
   ]
  },
  {
   "cell_type": "code",
   "source": [
    "from sklearn.model_selection import train_test_split\n",
    "from sklearn.preprocessing import OneHotEncoder\n",
    "from torch.utils.data import DataLoader, TensorDataset\n",
    "\n",
    "labels = y.flatten()\n",
    "X_train, X_test, y_train, y_test = train_test_split(X, labels, test_size=0.2, random_state=42)\n",
    "\n",
    "X_train_tensor = torch.FloatTensor(X_train)\n",
    "X_test_tensor = torch.FloatTensor(X_test)\n",
    "\n",
    "\n",
    "# One-hot encode the target labels\n",
    "encoder = OneHotEncoder(sparse=False, categories='auto')\n",
    "y_train_onehot = torch.FloatTensor(encoder.fit_transform(y_train.reshape(-1, 1)))\n",
    "y_test_onehot = torch.FloatTensor(encoder.transform(y_test.reshape(-1, 1)))\n",
    "\n",
    "# Create DataLoader for training and testing sets\n",
    "train_dataset = TensorDataset(X_train_tensor, y_train_onehot)\n",
    "train_loader = DataLoader(train_dataset, batch_size=8, shuffle=True)\n",
    "\n",
    "test_dataset = TensorDataset(X_test_tensor, y_test_onehot)\n",
    "test_loader = DataLoader(test_dataset, batch_size=8, shuffle=False)\n"
   ],
   "metadata": {
    "colab": {
     "base_uri": "https://localhost:8080/"
    },
    "id": "P7NtQxPbtD8i",
    "executionInfo": {
     "status": "ok",
     "timestamp": 1701434589580,
     "user_tz": -210,
     "elapsed": 17,
     "user": {
      "displayName": "Zahra Akhlaghi",
      "userId": "17816264335018384914"
     }
    },
    "outputId": "e178dc33-aa22-4af3-cde9-bf2c37b4fcc5"
   },
   "execution_count": 104,
   "outputs": [
    {
     "output_type": "stream",
     "name": "stderr",
     "text": [
      "/usr/local/lib/python3.10/dist-packages/sklearn/preprocessing/_encoders.py:868: FutureWarning: `sparse` was renamed to `sparse_output` in version 1.2 and will be removed in 1.4. `sparse_output` is ignored unless you leave `sparse` to its default value.\n",
      "  warnings.warn(\n"
     ]
    }
   ]
  },
  {
   "cell_type": "code",
   "source": [
    "# Set hyperparameters\n",
    "input_size = X.shape[1]\n",
    "hidden_size1 = 256\n",
    "hidden_size2 = 128\n",
    "hidden_size2 = 64\n",
    "output_size = 5\n",
    "\n",
    "model = MLP(input_size, hidden_size1,hidden_size2, hidden_size3,output_size)\n",
    "\n",
    "criterion = nn.CrossEntropyLoss()\n",
    "optimizer = optim.Adam(model.parameters(), lr=0.001)\n",
    "\n",
    "num_epochs =100\n",
    "for epoch in range(num_epochs):\n",
    "    for inputs, labels in train_loader:\n",
    "      optimizer.zero_grad()\n",
    "      outputs = model(inputs)\n",
    "      loss = criterion(outputs, labels.argmax(dim=1).long())\n",
    "      loss.backward()\n",
    "      optimizer.step()\n",
    "\n",
    "    if (epoch + 1) % 10 == 0:\n",
    "        print(f'Epoch [{epoch+1}/{num_epochs}], Loss: {loss.item():.4f}')"
   ],
   "metadata": {
    "colab": {
     "base_uri": "https://localhost:8080/"
    },
    "id": "2RdCkyNWtwcU",
    "executionInfo": {
     "status": "ok",
     "timestamp": 1701434878519,
     "user_tz": -210,
     "elapsed": 275273,
     "user": {
      "displayName": "Zahra Akhlaghi",
      "userId": "17816264335018384914"
     }
    },
    "outputId": "5738f68a-1fb4-4bc4-8a01-0fc375431965"
   },
   "execution_count": 106,
   "outputs": [
    {
     "output_type": "stream",
     "name": "stdout",
     "text": [
      "Epoch [10/100], Loss: 0.0044\n",
      "Epoch [20/100], Loss: 0.0001\n",
      "Epoch [30/100], Loss: 0.0000\n",
      "Epoch [40/100], Loss: 0.0021\n",
      "Epoch [50/100], Loss: 0.0000\n",
      "Epoch [60/100], Loss: 0.0000\n",
      "Epoch [70/100], Loss: 0.0000\n",
      "Epoch [80/100], Loss: 0.0001\n",
      "Epoch [90/100], Loss: 0.0053\n",
      "Epoch [100/100], Loss: 0.0000\n"
     ]
    }
   ]
  },
  {
   "cell_type": "code",
   "source": [
    "from sklearn.metrics import f1_score\n",
    "\n",
    "model.eval()\n",
    "\n",
    "all_predictions = []\n",
    "all_true_labels = []\n",
    "\n",
    "def get_cluster(arr):\n",
    "  v=[]\n",
    "  for a in arr:\n",
    "    m, i = max((v, i) for i, v in enumerate(a))\n",
    "    if m==0:\n",
    "      v.append(0)\n",
    "    else:\n",
    "      v.append(i+1)\n",
    "  return v\n",
    "\n",
    "with torch.no_grad():\n",
    "    for inputs, labels in test_loader:\n",
    "        outputs = model(inputs)\n",
    "        all_predictions.extend(get_cluster(outputs.numpy()))\n",
    "        all_true_labels.extend(get_cluster(labels.numpy()))\n",
    "\n",
    "# Convert lists to NumPy arrays\n",
    "predicted_labels = np.array(all_predictions)\n",
    "true_labels = np.array(all_true_labels)\n",
    "\n",
    "# Calculate F1-score\n",
    "f1 = f1_score(true_labels, predicted_labels,  average='macro')\n",
    "print(f'f1-score: {f1}')"
   ],
   "metadata": {
    "colab": {
     "base_uri": "https://localhost:8080/"
    },
    "id": "zHnF4V5_vscx",
    "executionInfo": {
     "status": "ok",
     "timestamp": 1701434879121,
     "user_tz": -210,
     "elapsed": 629,
     "user": {
      "displayName": "Zahra Akhlaghi",
      "userId": "17816264335018384914"
     }
    },
    "outputId": "f836541f-59e2-4480-c0ee-58122e0d3342"
   },
   "execution_count": 107,
   "outputs": [
    {
     "output_type": "stream",
     "name": "stdout",
     "text": [
      "f1-score: 0.9990033882317899\n"
     ]
    }
   ]
  },
  {
   "cell_type": "code",
   "source": [],
   "metadata": {
    "id": "FBv1pnefwNYp"
   },
   "execution_count": null,
   "outputs": []
  }
 ],
 "metadata": {
  "colab": {
   "provenance": []
  },
  "kernelspec": {
   "display_name": "Python 3",
   "name": "python3"
  },
  "language_info": {
   "name": "python"
  }
 },
 "nbformat": 4,
 "nbformat_minor": 0
}
