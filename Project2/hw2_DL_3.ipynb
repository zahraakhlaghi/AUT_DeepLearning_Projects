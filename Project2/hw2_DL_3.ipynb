{
 "cells": [
  {
   "cell_type": "code",
   "execution_count": 1,
   "metadata": {
    "id": "uLEYRn37ZJnL"
   },
   "outputs": [],
   "source": [
    "from turtle import width\n",
    "import torch\n",
    "from PIL import Image\n",
    "from torch.utils.data import DataLoader\n",
    "import numpy as np"
   ]
  },
  {
   "cell_type": "code",
   "execution_count": 2,
   "metadata": {
    "id": "XoJ1uHiCaOLo"
   },
   "outputs": [],
   "source": [
    "class ImagePixelDatasetHigherDimention(torch.utils.data.Dataset):\n",
    "\n",
    "  def __init__(self,image_path,L):\n",
    "    self.image = np.array(Image.open(image_path))\n",
    "    self.height,self.width,_ = self.image.shape\n",
    "    self.L = L\n",
    "\n",
    "\n",
    "  def __len__(self):\n",
    "    return self.height * self.width\n",
    "\n",
    "  def __getitem__(self, idx):\n",
    "\n",
    "    y = idx // self.width\n",
    "    x = idx % self.width\n",
    "    color = self.image[y,x]/255\n",
    "\n",
    "    y = np.interp(y,[0,self.height],[-1,1])\n",
    "    x = np.interp(x,[0,self.width],[-1,1])\n",
    "\n",
    "    input = []\n",
    "\n",
    "    for l in range(0,self.L):\n",
    "        input.append(np.sin(2**l * np.pi * x))\n",
    "        input.append(np.cos(2**l * np.pi * x))\n",
    "\n",
    "    for l in range(0,self.L):\n",
    "        input.append(np.sin(2**l * np.pi * y))\n",
    "        input.append(np.cos(2**l * np.pi * y))\n",
    "\n",
    "\n",
    "    return np.array(input), color"
   ]
  },
  {
   "cell_type": "code",
   "execution_count": 3,
   "metadata": {
    "id": "OajhGX3uZQKu"
   },
   "outputs": [],
   "source": [
    "# Example usage\n",
    "input_image_path = \"/content/drive/My Drive/sifnos-greece-3840x2160-12799.jpg\"\n",
    "output_double_resolution = '/content/drive/My Drive/double_resolution.jpg'\n",
    "output_add_border = '/content/drive/My Drive/add_border.jpg'\n",
    "\n",
    "border_size = 200"
   ]
  },
  {
   "cell_type": "code",
   "execution_count": 4,
   "metadata": {
    "colab": {
     "base_uri": "https://localhost:8080/"
    },
    "id": "Ysz9nmXeWfBD",
    "outputId": "ca0dd9bf-b520-49d5-e1b3-e5d5c60c0c68"
   },
   "outputs": [
    {
     "name": "stdout",
     "output_type": "stream",
     "text": [
      "Mounted at /content/drive\n"
     ]
    }
   ],
   "source": [
    "from google.colab import drive\n",
    "import pandas as pd\n",
    "drive.mount('/content/drive')\n"
   ]
  },
  {
   "cell_type": "code",
   "execution_count": 5,
   "metadata": {
    "id": "xk4FrV9bWCUp"
   },
   "outputs": [],
   "source": [
    "from PIL import Image\n",
    "\n",
    "def double_resolution(input_path, output_path):\n",
    "    # Open the image\n",
    "    original_image = Image.open(input_path)\n",
    "\n",
    "    # Get the original width and height\n",
    "    original_width, original_height = original_image.size\n",
    "\n",
    "    # Create a new image with double the resolution\n",
    "    new_width = original_width * 2\n",
    "    new_height = original_height * 2\n",
    "    new_image = original_image.resize((new_width, new_height), Image.BICUBIC)\n",
    "\n",
    "    # Save the new image\n",
    "    new_image.save(output_path)"
   ]
  },
  {
   "cell_type": "code",
   "execution_count": 6,
   "metadata": {
    "id": "J0sx2fKQWfEL"
   },
   "outputs": [],
   "source": [
    "from PIL import Image, ImageOps\n",
    "\n",
    "def add_border(input_path, output_path, border_size):\n",
    "    # Open the image\n",
    "    original_image = Image.open(input_path)\n",
    "\n",
    "    # Add a border to the image\n",
    "    bordered_image = ImageOps.expand(original_image, border=border_size, fill='black')\n",
    "\n",
    "    # Save the result\n",
    "    bordered_image.save(output_path)"
   ]
  },
  {
   "cell_type": "code",
   "execution_count": 7,
   "metadata": {
    "id": "ITL4KunOa4Ir"
   },
   "outputs": [],
   "source": [
    "\n",
    "import torch.nn as nn\n",
    "from torch.utils.data import DataLoader, random_split\n",
    "from torchvision import transforms\n",
    "\n",
    "\n",
    "class MLP(nn.Module):\n",
    "    def __init__(self, input_size, hidden_size, output_size):\n",
    "        super(MLP, self).__init__()\n",
    "        self.fc1 = nn.Linear(input_size, hidden_size)\n",
    "        self.relu1 = nn.ReLU()\n",
    "        self.fc2 = nn.Linear(hidden_size, output_size)\n",
    "        self.relu2 = nn.ReLU()\n",
    "\n",
    "    def forward(self, x):\n",
    "        x = self.relu1(self.fc1(x))\n",
    "        x = self.relu2(self.fc2(x))\n",
    "        return x\n",
    "\n",
    "class MLP3(nn.Module):\n",
    "    def __init__(self, input_size, hidden_size1,hidden_size2, output_size):\n",
    "        super(MLP3, self).__init__()\n",
    "        self.fc1 = nn.Linear(input_size, hidden_size1)\n",
    "        self.relu1 = nn.ReLU()\n",
    "        self.fc2 = nn.Linear(hidden_size1, hidden_size2)\n",
    "        self.relu2 = nn.ReLU()\n",
    "        self.fc3 = nn.Linear(hidden_size2, output_size)\n",
    "        self.relu3 = nn.ReLU()\n",
    "\n",
    "    def forward(self, x):\n",
    "        x = self.relu1(self.fc1(x))\n",
    "        x = self.relu2(self.fc2(x))\n",
    "        x = self.relu3(self.fc3(x))\n",
    "        return x\n",
    "\n",
    "class MLP4(nn.Module):\n",
    "    def __init__(self, input_size, hidden_size1,hidden_size2,hidden_size3, output_size):\n",
    "        super(MLP4, self).__init__()\n",
    "        self.fc1 = nn.Linear(input_size, hidden_size1)\n",
    "        self.relu1 = nn.ReLU()\n",
    "        self.fc2 = nn.Linear(hidden_size1, hidden_size2)\n",
    "        self.relu2 = nn.ReLU()\n",
    "        self.fc3 = nn.Linear(hidden_size2, hidden_size3)\n",
    "        self.relu3 = nn.ReLU()\n",
    "        self.fc4 = nn.Linear(hidden_size3, output_size)\n",
    "        self.relu4 = nn.ReLU()\n",
    "\n",
    "    def forward(self, x):\n",
    "        x = self.relu1(self.fc1(x))\n",
    "        x = self.relu2(self.fc2(x))\n",
    "        x = self.relu3(self.fc3(x))\n",
    "        x = self.relu4(self.fc4(x))\n",
    "        return x"
   ]
  },
  {
   "cell_type": "code",
   "execution_count": 8,
   "metadata": {
    "colab": {
     "base_uri": "https://localhost:8080/"
    },
    "id": "Fw5sB4oQWfHZ",
    "outputId": "3f7573ed-6b0f-4a24-e78d-4a77ad3fe5c4"
   },
   "outputs": [
    {
     "data": {
      "text/plain": [
       "MLP4(\n",
       "  (fc1): Linear(in_features=8, out_features=256, bias=True)\n",
       "  (relu1): ReLU()\n",
       "  (fc2): Linear(in_features=256, out_features=128, bias=True)\n",
       "  (relu2): ReLU()\n",
       "  (fc3): Linear(in_features=128, out_features=64, bias=True)\n",
       "  (relu3): ReLU()\n",
       "  (fc4): Linear(in_features=64, out_features=3, bias=True)\n",
       "  (relu4): ReLU()\n",
       ")"
      ]
     },
     "execution_count": 8,
     "metadata": {},
     "output_type": "execute_result"
    }
   ],
   "source": [
    "model_hd_l2 = torch.load('/content/drive/My Drive/model_mlp_hd_l2.pt')\n",
    "model_hd_l2.eval()"
   ]
  },
  {
   "cell_type": "code",
   "execution_count": 9,
   "metadata": {
    "id": "UO2fiFmcZr2o"
   },
   "outputs": [],
   "source": [
    "double_resolution(input_image_path,output_double_resolution)"
   ]
  },
  {
   "cell_type": "code",
   "execution_count": null,
   "metadata": {
    "colab": {
     "base_uri": "https://localhost:8080/"
    },
    "id": "4-GLbRd8WfKe",
    "outputId": "525fc188-4d2b-462c-9a5e-a3822f8752a4"
   },
   "outputs": [
    {
     "name": "stderr",
     "output_type": "stream",
     "text": [
      "100%|██████████| 33177600/33177600 [12:09<00:00, 45478.59it/s]\n",
      "<ipython-input-10-1fb8b26fa0b8>:7: UserWarning: Creating a tensor from a list of numpy.ndarrays is extremely slow. Please consider converting the list to a single numpy.ndarray with numpy.array() before converting to a tensor. (Triggered internally at ../torch/csrc/utils/tensor_new.cpp:261.)\n",
      "  coor = torch.tensor(coor)\n",
      "  0%|          | 0/254 [00:00<?, ?it/s]<ipython-input-10-1fb8b26fa0b8>:15: UserWarning: To copy construct from a tensor, it is recommended to use sourceTensor.clone().detach() or sourceTensor.clone().detach().requires_grad_(True), rather than torch.tensor(sourceTensor).\n",
      "  batch_coor = torch.tensor(coor[i:i+batch_size, :],dtype=torch.float32)\n",
      "100%|██████████| 254/254 [00:58<00:00,  4.37it/s]\n"
     ]
    }
   ],
   "source": [
    "from tqdm import tqdm\n",
    "\n",
    "L=2\n",
    "\n",
    "dataset = ImagePixelDatasetHigherDimention(output_double_resolution,L)\n",
    "coor = [dataset[i][0] for i in tqdm(range(len(dataset)))]\n",
    "coor = torch.tensor(coor)\n",
    "\n",
    "model_hd_l2.eval()\n",
    "\n",
    "batch_size = 131072\n",
    "with torch.no_grad():\n",
    "  pre = []\n",
    "  for i in tqdm(range(0, coor.size(0), batch_size)):\n",
    "    batch_coor = torch.tensor(coor[i:i+batch_size, :],dtype=torch.float32)\n",
    "    batch_pred = model_hd_l2(batch_coor)\n",
    "    pre.append(batch_pred)\n",
    "\n",
    "predicted_rgb = torch.cat(pre, dim=0)\n",
    "\n",
    "predicted_rgb = predicted_rgb.view(dataset.height, dataset.width, 3).numpy() * 255\n",
    "predicted_image = Image.fromarray(predicted_rgb.astype('uint8'))\n",
    "\n",
    "predicted_image.save('./mlp_model_hd_double_resolution.png')"
   ]
  },
  {
   "cell_type": "code",
   "execution_count": null,
   "metadata": {
    "id": "FM9LHjg8WfMv"
   },
   "outputs": [],
   "source": [
    "add_border(input_image_path,output_add_border,200)"
   ]
  },
  {
   "cell_type": "code",
   "execution_count": 10,
   "metadata": {
    "colab": {
     "base_uri": "https://localhost:8080/"
    },
    "id": "2XCqTmWJ-8F-",
    "outputId": "2852bfc0-bcf8-4536-baf0-1b436bc70e09"
   },
   "outputs": [
    {
     "name": "stderr",
     "output_type": "stream",
     "text": [
      "100%|██████████| 10854400/10854400 [06:13<00:00, 29074.80it/s]\n",
      "<ipython-input-10-ff19d60a907f>:9: UserWarning: Creating a tensor from a list of numpy.ndarrays is extremely slow. Please consider converting the list to a single numpy.ndarray with numpy.array() before converting to a tensor. (Triggered internally at ../torch/csrc/utils/tensor_new.cpp:261.)\n",
      "  coor = torch.tensor(coor)\n",
      "  0%|          | 0/2650 [00:00<?, ?it/s]<ipython-input-10-ff19d60a907f>:17: UserWarning: To copy construct from a tensor, it is recommended to use sourceTensor.clone().detach() or sourceTensor.clone().detach().requires_grad_(True), rather than torch.tensor(sourceTensor).\n",
      "  batch_coor = torch.tensor(coor[i:i+batch_size, :],dtype=torch.float32)\n",
      "100%|██████████| 2650/2650 [00:33<00:00, 78.61it/s]\n"
     ]
    }
   ],
   "source": [
    "from tqdm import tqdm\n",
    "\n",
    "L=2\n",
    "\n",
    "model_hd_l2.eval()\n",
    "\n",
    "dataset = ImagePixelDatasetHigherDimention(output_add_border,L)\n",
    "coor = [dataset[i][0] for i in tqdm(range(len(dataset)))]\n",
    "coor = torch.tensor(coor)\n",
    "\n",
    "model_hd_l2.eval()\n",
    "\n",
    "batch_size = 4096\n",
    "with torch.no_grad():\n",
    "  pre = []\n",
    "  for i in tqdm(range(0, coor.size(0), batch_size)):\n",
    "    batch_coor = torch.tensor(coor[i:i+batch_size, :],dtype=torch.float32)\n",
    "    batch_pred = model_hd_l2(batch_coor)\n",
    "    pre.append(batch_pred)\n",
    "\n",
    "predicted_rgb = torch.cat(pre, dim=0)\n",
    "\n",
    "predicted_rgb = predicted_rgb.view(dataset.height, dataset.width, 3).numpy() * 255\n",
    "predicted_image = Image.fromarray(predicted_rgb.astype('uint8'))\n",
    "\n",
    "predicted_image.save('./mlp_model_hd_l2_border.png')"
   ]
  },
  {
   "cell_type": "code",
   "execution_count": null,
   "metadata": {
    "id": "oPIPX7n--i__"
   },
   "outputs": [],
   "source": []
  }
 ],
 "metadata": {
  "colab": {
   "provenance": []
  },
  "kernelspec": {
   "display_name": "Python 3 (ipykernel)",
   "language": "python",
   "name": "python3"
  },
  "language_info": {
   "codemirror_mode": {
    "name": "ipython",
    "version": 3
   },
   "file_extension": ".py",
   "mimetype": "text/x-python",
   "name": "python",
   "nbconvert_exporter": "python",
   "pygments_lexer": "ipython3",
   "version": "3.10.12"
  }
 },
 "nbformat": 4,
 "nbformat_minor": 1
}
