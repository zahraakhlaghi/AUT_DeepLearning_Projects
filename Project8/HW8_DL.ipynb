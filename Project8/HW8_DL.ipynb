{
 "nbformat": 4,
 "nbformat_minor": 0,
 "metadata": {
  "colab": {
   "provenance": []
  },
  "kernelspec": {
   "name": "python3",
   "language": "python",
   "display_name": "Python 3 (ipykernel)"
  },
  "language_info": {
   "name": "python"
  }
 },
 "cells": [
  {
   "cell_type": "code",
   "source": [
    "! pip install gym==0.15.4"
   ],
   "metadata": {
    "colab": {
     "base_uri": "https://localhost:8080/"
    },
    "id": "w1EZ1zEjzoi2",
    "outputId": "10001b5e-f520-4332-e573-335ffff5c5da",
    "ExecuteTime": {
     "end_time": "2024-02-10T22:04:07.064347825Z",
     "start_time": "2024-02-10T22:01:57.938154602Z"
    }
   },
   "execution_count": 3,
   "outputs": [
    {
     "name": "stdout",
     "output_type": "stream",
     "text": [
      "Collecting gym==0.15.4\r\n",
      "  Downloading gym-0.15.4.tar.gz (1.6 MB)\r\n",
      "\u001B[2K     \u001B[90m━━━━━━━━━━━━━━━━━━━━━━━━━━━━━━━━━━━━━━━━\u001B[0m \u001B[32m1.6/1.6 MB\u001B[0m \u001B[31m571.6 kB/s\u001B[0m eta \u001B[36m0:00:00\u001B[0m00:01\u001B[0m00:01\u001B[0m\r\n",
      "\u001B[?25h  Preparing metadata (setup.py) ... \u001B[?25ldone\r\n",
      "\u001B[?25hRequirement already satisfied: scipy in ./venv/lib/python3.8/site-packages (from gym==0.15.4) (1.10.1)\r\n",
      "Requirement already satisfied: numpy>=1.10.4 in ./venv/lib/python3.8/site-packages (from gym==0.15.4) (1.24.4)\r\n",
      "Requirement already satisfied: six in ./venv/lib/python3.8/site-packages (from gym==0.15.4) (1.16.0)\r\n",
      "Collecting pyglet<=1.3.2,>=1.2.0 (from gym==0.15.4)\r\n",
      "  Downloading pyglet-1.3.2-py2.py3-none-any.whl (1.0 MB)\r\n",
      "\u001B[2K     \u001B[90m━━━━━━━━━━━━━━━━━━━━━━━━━━━━━━━━━━━━━━━━\u001B[0m \u001B[32m1.0/1.0 MB\u001B[0m \u001B[31m705.5 kB/s\u001B[0m eta \u001B[36m0:00:00\u001B[0m00:01\u001B[0m00:01\u001B[0m\r\n",
      "\u001B[?25hCollecting cloudpickle~=1.2.0 (from gym==0.15.4)\r\n",
      "  Downloading cloudpickle-1.2.2-py2.py3-none-any.whl (25 kB)\r\n",
      "Collecting opencv-python (from gym==0.15.4)\r\n",
      "  Downloading opencv_python-4.9.0.80-cp37-abi3-manylinux_2_17_x86_64.manylinux2014_x86_64.whl.metadata (20 kB)\r\n",
      "Collecting future (from pyglet<=1.3.2,>=1.2.0->gym==0.15.4)\r\n",
      "  Downloading future-0.18.3.tar.gz (840 kB)\r\n",
      "\u001B[2K     \u001B[90m━━━━━━━━━━━━━━━━━━━━━━━━━━━━━━━━━━━━━\u001B[0m \u001B[32m840.9/840.9 kB\u001B[0m \u001B[31m810.9 kB/s\u001B[0m eta \u001B[36m0:00:00\u001B[0m00:01\u001B[0m00:01\u001B[0m\r\n",
      "\u001B[?25h  Preparing metadata (setup.py) ... \u001B[?25ldone\r\n",
      "\u001B[?25hDownloading opencv_python-4.9.0.80-cp37-abi3-manylinux_2_17_x86_64.manylinux2014_x86_64.whl (62.2 MB)\r\n",
      "\u001B[2K   \u001B[90m━━━━━━━━━━━━━━━━━━━━━━━━━━━━━━━━━━━━━━━━\u001B[0m \u001B[32m62.2/62.2 MB\u001B[0m \u001B[31m480.3 kB/s\u001B[0m eta \u001B[36m0:00:00\u001B[0m00:01\u001B[0m00:04\u001B[0m\r\n",
      "\u001B[?25hBuilding wheels for collected packages: gym, future\r\n",
      "  Building wheel for gym (setup.py) ... \u001B[?25ldone\r\n",
      "\u001B[?25h  Created wheel for gym: filename=gym-0.15.4-py3-none-any.whl size=1648452 sha256=b5e1465f81b6caca96a18de027cdd14866b24385582a5cc0b26e9ee1e4a53d53\r\n",
      "  Stored in directory: /home/asus/.cache/pip/wheels/9c/18/7d/c8a0742c313735e23335fa606ce951d9510ed4f12af2cb763b\r\n",
      "  Building wheel for future (setup.py) ... \u001B[?25ldone\r\n",
      "\u001B[?25h  Created wheel for future: filename=future-0.18.3-py3-none-any.whl size=492024 sha256=62da487568a87c5b1a070b46d20d3e8885f7000befeabe0c59fa4cc86030aa8a\r\n",
      "  Stored in directory: /home/asus/.cache/pip/wheels/a0/0b/ee/e6994fadb42c1354dcccb139b0bf2795271bddfe6253ccdf11\r\n",
      "Successfully built gym future\r\n",
      "Installing collected packages: cloudpickle, opencv-python, future, pyglet, gym\r\n",
      "Successfully installed cloudpickle-1.2.2 future-0.18.3 gym-0.15.4 opencv-python-4.9.0.80 pyglet-1.3.2\r\n",
      "\r\n",
      "\u001B[1m[\u001B[0m\u001B[34;49mnotice\u001B[0m\u001B[1;39;49m]\u001B[0m\u001B[39;49m A new release of pip is available: \u001B[0m\u001B[31;49m23.3.1\u001B[0m\u001B[39;49m -> \u001B[0m\u001B[32;49m24.0\u001B[0m\r\n",
      "\u001B[1m[\u001B[0m\u001B[34;49mnotice\u001B[0m\u001B[1;39;49m]\u001B[0m\u001B[39;49m To update, run: \u001B[0m\u001B[32;49mpip install --upgrade pip\u001B[0m\r\n"
     ]
    }
   ]
  },
  {
   "cell_type": "code",
   "execution_count": 4,
   "metadata": {
    "id": "5Q3g_T3_Y3CK",
    "ExecuteTime": {
     "end_time": "2024-02-10T22:04:11.017595596Z",
     "start_time": "2024-02-10T22:04:07.067951397Z"
    }
   },
   "outputs": [],
   "source": [
    "import gym\n",
    "import torch"
   ]
  },
  {
   "cell_type": "code",
   "source": [
    "env = gym.make('CartPole-v0')"
   ],
   "metadata": {
    "id": "kRkG9U64Y-E4",
    "ExecuteTime": {
     "end_time": "2024-02-10T22:04:15.348571523Z",
     "start_time": "2024-02-10T22:04:15.322720382Z"
    }
   },
   "execution_count": 5,
   "outputs": []
  },
  {
   "cell_type": "code",
   "source": [
    "number_observation_features = env.observation_space.shape[0]\n",
    "number_actions = env.action_space.n"
   ],
   "metadata": {
    "id": "j5TblF3OZNdj",
    "ExecuteTime": {
     "end_time": "2024-02-10T22:04:16.556936631Z",
     "start_time": "2024-02-10T22:04:16.528389383Z"
    }
   },
   "execution_count": 6,
   "outputs": []
  },
  {
   "cell_type": "code",
   "source": [
    "number_observation_features"
   ],
   "metadata": {
    "colab": {
     "base_uri": "https://localhost:8080/"
    },
    "id": "lr7BTkUoZTH2",
    "outputId": "b47098d3-9ec4-4c5c-9f90-d73b3d55477e",
    "ExecuteTime": {
     "end_time": "2024-02-10T22:04:17.161732635Z",
     "start_time": "2024-02-10T22:04:17.078135061Z"
    }
   },
   "execution_count": 7,
   "outputs": [
    {
     "data": {
      "text/plain": "4"
     },
     "execution_count": 7,
     "metadata": {},
     "output_type": "execute_result"
    }
   ]
  },
  {
   "cell_type": "code",
   "source": [
    "number_actions"
   ],
   "metadata": {
    "colab": {
     "base_uri": "https://localhost:8080/"
    },
    "id": "J9X1Wgb5Z4Wt",
    "outputId": "544685c9-9d66-4c48-90c4-2d426c58d435",
    "ExecuteTime": {
     "end_time": "2024-02-10T22:04:18.229036685Z",
     "start_time": "2024-02-10T22:04:18.195185511Z"
    }
   },
   "execution_count": 8,
   "outputs": [
    {
     "data": {
      "text/plain": "2"
     },
     "execution_count": 8,
     "metadata": {},
     "output_type": "execute_result"
    }
   ]
  },
  {
   "cell_type": "code",
   "source": [
    "class MLP(torch.nn.Module):\n",
    "    def __init__(self, input_size, hidden_sizes, output_size):\n",
    "        super(MLP, self).__init__()\n",
    "        layers = []\n",
    "        sizes = [input_size] + hidden_sizes + [output_size]\n",
    "        for i in range(len(sizes) - 1):\n",
    "            layers.append(torch.nn.Linear(sizes[i], sizes[i + 1]))\n",
    "            if i < len(sizes) - 2:\n",
    "                layers.append(torch.nn.ReLU())\n",
    "        self.model = torch.nn.Sequential(*layers)\n",
    "\n",
    "    def forward(self, x):\n",
    "        return self.model(x)"
   ],
   "metadata": {
    "id": "46_MNvUWZ5he",
    "ExecuteTime": {
     "end_time": "2024-02-10T22:04:19.844480421Z",
     "start_time": "2024-02-10T22:04:19.821242070Z"
    }
   },
   "execution_count": 9,
   "outputs": []
  },
  {
   "cell_type": "code",
   "source": [
    "model = MLP(number_observation_features, [16,8], number_actions)\n",
    "\n",
    "optimizer = torch.optim.Adam(model.parameters(), lr=0.001)\n",
    "\n",
    "num_epochs = 100"
   ],
   "metadata": {
    "id": "OLCXnR6oaXvK",
    "ExecuteTime": {
     "end_time": "2024-02-10T22:04:24.669942749Z",
     "start_time": "2024-02-10T22:04:23.740118938Z"
    }
   },
   "execution_count": 10,
   "outputs": []
  },
  {
   "cell_type": "code",
   "source": [
    "\n",
    "from torch.distributions.categorical import Categorical\n",
    "\n",
    "def get_policy(model, observation):\n",
    "    observation_tensor = torch.as_tensor(observation, dtype=torch.float32)\n",
    "    logits = model(observation_tensor)\n",
    "\n",
    "    # Categorical will also normalize the logits for us\n",
    "    return Categorical(logits=logits)"
   ],
   "metadata": {
    "id": "f2nXMA4Gb6UI",
    "ExecuteTime": {
     "end_time": "2024-02-10T22:04:26.801927265Z",
     "start_time": "2024-02-10T22:04:26.775229388Z"
    }
   },
   "execution_count": 11,
   "outputs": []
  },
  {
   "cell_type": "code",
   "source": [
    "def get_action(policy):\n",
    "    action = policy.sample()  # Unit tensor\n",
    "\n",
    "    # Converts to an int, as this is what Gym environments require\n",
    "    action_int = int(action.item())\n",
    "\n",
    "    # Calculate the log probability of the action, which is required for\n",
    "    # calculating the loss later\n",
    "    log_probability_action = policy.log_prob(action)\n",
    "\n",
    "    return action_int, log_probability_action"
   ],
   "metadata": {
    "id": "VV5PAq3_cU3a",
    "ExecuteTime": {
     "end_time": "2024-02-10T22:04:27.362686190Z",
     "start_time": "2024-02-10T22:04:27.337187235Z"
    }
   },
   "execution_count": 12,
   "outputs": []
  },
  {
   "cell_type": "code",
   "source": [
    "def calculate_loss(epoch_log_probability_actions, epoch_action_rewards):\n",
    "    return -(epoch_log_probability_actions * epoch_action_rewards).sum()"
   ],
   "metadata": {
    "id": "ekutmNwdcalj",
    "ExecuteTime": {
     "end_time": "2024-02-10T22:04:28.809860888Z",
     "start_time": "2024-02-10T22:04:28.774573499Z"
    }
   },
   "execution_count": 13,
   "outputs": []
  },
  {
   "cell_type": "code",
   "source": [
    "import numpy as np\n",
    "import torch.nn as nn\n",
    "from torch.optim import Adam, Optimizer\n",
    "\n",
    "def train_one_epoch(env,model,optimizer,max_timesteps,episode_timesteps):\n",
    "    epoch_total_timesteps = 0\n",
    "\n",
    "    # Returns from each episode (to keep track of progress)\n",
    "    epoch_returns: list[float] = []\n",
    "\n",
    "    # Action log probabilities and rewards per step (for calculating loss)\n",
    "    epoch_log_probability_actions = []\n",
    "    epoch_action_rewards = []\n",
    "\n",
    "    # Loop through episodes\n",
    "    while True:\n",
    "\n",
    "        # Stop if we've done over the total number of timesteps\n",
    "        if epoch_total_timesteps > max_timesteps:\n",
    "            break\n",
    "\n",
    "        # Running total of this episode's rewards\n",
    "        episode_reward: float = 0\n",
    "\n",
    "        # Reset the environment and get a fresh observation\n",
    "        observation = env.reset()\n",
    "\n",
    "        # Loop through timesteps until the episode is done (or the max is hit)\n",
    "        for timestep in range(episode_timesteps):\n",
    "            epoch_total_timesteps += 1\n",
    "\n",
    "            # Get the policy and act\n",
    "            policy = get_policy(model, observation)\n",
    "            action, log_probability_action = get_action(policy)\n",
    "            observation, reward, done, _ = env.step(action)\n",
    "\n",
    "            # Increment the episode rewards\n",
    "            episode_reward += reward\n",
    "\n",
    "            # Add epoch action log probabilities\n",
    "            epoch_log_probability_actions.append(log_probability_action)\n",
    "\n",
    "            # Finish the action loop if this episode is done\n",
    "            if done is True:\n",
    "                # Add one reward per timestep\n",
    "                for _ in range(timestep + 1):\n",
    "                    epoch_action_rewards.append(episode_reward)\n",
    "\n",
    "                break\n",
    "\n",
    "        # Increment the epoch returns\n",
    "        epoch_returns.append(episode_reward)\n",
    "\n",
    "    # Calculate the policy gradient, and use it to step the weights & biases\n",
    "    epoch_loss = calculate_loss(torch.stack(\n",
    "        epoch_log_probability_actions),\n",
    "        torch.as_tensor(\n",
    "        epoch_action_rewards, dtype=torch.float32)\n",
    "    )\n",
    "\n",
    "    epoch_loss.backward()\n",
    "    optimizer.step()\n",
    "    optimizer.zero_grad()\n",
    "\n",
    "    return float(np.mean(epoch_returns))"
   ],
   "metadata": {
    "id": "SXJkW-kPa_Bk",
    "ExecuteTime": {
     "end_time": "2024-02-10T22:04:31.146432897Z",
     "start_time": "2024-02-10T22:04:31.077689723Z"
    }
   },
   "execution_count": 14,
   "outputs": []
  },
  {
   "cell_type": "code",
   "source": [
    "for epoch in range(num_epochs):\n",
    "        average_return = train_one_epoch(env, model, optimizer,5000,200)\n",
    "        if (epoch+1)%10==0:\n",
    "           print('epoch: %3d \\t return: %.3f' % (epoch+1, average_return))"
   ],
   "metadata": {
    "colab": {
     "base_uri": "https://localhost:8080/"
    },
    "id": "zW_EYHycacWE",
    "outputId": "89051a86-1d12-40b0-e09c-2382d29ca0b9"
   },
   "execution_count": 15,
   "outputs": [
    {
     "output_type": "stream",
     "name": "stdout",
     "text": [
      "epoch:  10 \t return: 23.806\n",
      "epoch:  20 \t return: 24.335\n",
      "epoch:  30 \t return: 26.010\n",
      "epoch:  40 \t return: 28.680\n",
      "epoch:  50 \t return: 27.656\n",
      "epoch:  60 \t return: 32.096\n",
      "epoch:  70 \t return: 35.338\n",
      "epoch:  80 \t return: 39.148\n",
      "epoch:  90 \t return: 44.786\n",
      "epoch: 100 \t return: 49.554\n"
     ]
    }
   ]
  },
  {
   "cell_type": "code",
   "source": [
    "from google.colab import drive\n",
    "drive.mount('/content/drive')"
   ],
   "metadata": {
    "colab": {
     "base_uri": "https://localhost:8080/"
    },
    "id": "h9sjM8mU0NGg",
    "outputId": "52cdf862-4125-49e8-cc87-3d65854e0077"
   },
   "execution_count": 16,
   "outputs": [
    {
     "output_type": "stream",
     "name": "stdout",
     "text": [
      "Mounted at /content/drive\n"
     ]
    }
   ]
  },
  {
   "cell_type": "code",
   "source": [
    "# model_scripted = torch.jit.script(model) # Export to TorchScript\n",
    "# model_scripted.save('/content/drive/MyDrive/model.pt') # Save"
   ],
   "metadata": {
    "id": "shCeZIncuv-L"
   },
   "execution_count": 17,
   "outputs": []
  },
  {
   "cell_type": "code",
   "source": [
    "import torch\n",
    "\n",
    "model = torch.jit.load('./model.pt')\n",
    "model.eval()"
   ],
   "metadata": {
    "colab": {
     "base_uri": "https://localhost:8080/"
    },
    "id": "9xS87UIeu9hI",
    "outputId": "0cd6934f-a706-4a8b-98b0-23cd6bb3572b",
    "ExecuteTime": {
     "end_time": "2024-02-10T22:05:05.482963955Z",
     "start_time": "2024-02-10T22:05:05.398883811Z"
    }
   },
   "execution_count": 15,
   "outputs": [
    {
     "data": {
      "text/plain": "RecursiveScriptModule(\n  original_name=MLP\n  (model): RecursiveScriptModule(\n    original_name=Sequential\n    (0): RecursiveScriptModule(original_name=Linear)\n    (1): RecursiveScriptModule(original_name=ReLU)\n    (2): RecursiveScriptModule(original_name=Linear)\n    (3): RecursiveScriptModule(original_name=ReLU)\n    (4): RecursiveScriptModule(original_name=Linear)\n  )\n)"
     },
     "execution_count": 15,
     "metadata": {},
     "output_type": "execute_result"
    }
   ]
  },
  {
   "cell_type": "code",
   "source": [
    "!pip install gym pyvirtualdisplay imageio\n",
    "!sudo apt-get install xvfb"
   ],
   "metadata": {
    "colab": {
     "base_uri": "https://localhost:8080/"
    },
    "id": "slJrnRLXvYQE",
    "outputId": "9bd52a52-9b69-41fa-e122-fced6e6c211a",
    "ExecuteTime": {
     "end_time": "2024-02-10T22:05:44.083572783Z",
     "start_time": "2024-02-10T22:05:15.154673097Z"
    }
   },
   "execution_count": 16,
   "outputs": [
    {
     "name": "stdout",
     "output_type": "stream",
     "text": [
      "Requirement already satisfied: gym in ./venv/lib/python3.8/site-packages (0.15.4)\r\n",
      "Collecting pyvirtualdisplay\r\n",
      "  Downloading PyVirtualDisplay-3.0-py3-none-any.whl (15 kB)\r\n",
      "Collecting imageio\r\n",
      "  Downloading imageio-2.33.1-py3-none-any.whl.metadata (4.9 kB)\r\n",
      "Requirement already satisfied: scipy in ./venv/lib/python3.8/site-packages (from gym) (1.10.1)\r\n",
      "Requirement already satisfied: numpy>=1.10.4 in ./venv/lib/python3.8/site-packages (from gym) (1.24.4)\r\n",
      "Requirement already satisfied: six in ./venv/lib/python3.8/site-packages (from gym) (1.16.0)\r\n",
      "Requirement already satisfied: pyglet<=1.3.2,>=1.2.0 in ./venv/lib/python3.8/site-packages (from gym) (1.3.2)\r\n",
      "Requirement already satisfied: cloudpickle~=1.2.0 in ./venv/lib/python3.8/site-packages (from gym) (1.2.2)\r\n",
      "Requirement already satisfied: opencv-python in ./venv/lib/python3.8/site-packages (from gym) (4.9.0.80)\r\n",
      "Requirement already satisfied: pillow>=8.3.2 in ./venv/lib/python3.8/site-packages (from imageio) (10.1.0)\r\n",
      "Requirement already satisfied: future in ./venv/lib/python3.8/site-packages (from pyglet<=1.3.2,>=1.2.0->gym) (0.18.3)\r\n",
      "Downloading imageio-2.33.1-py3-none-any.whl (313 kB)\r\n",
      "\u001B[2K   \u001B[90m━━━━━━━━━━━━━━━━━━━━━━━━━━━━━━━━━━━━━━━━\u001B[0m \u001B[32m313.3/313.3 kB\u001B[0m \u001B[31m1.1 MB/s\u001B[0m eta \u001B[36m0:00:00\u001B[0ma \u001B[36m0:00:01\u001B[0mm\r\n",
      "\u001B[?25hInstalling collected packages: pyvirtualdisplay, imageio\r\n",
      "Successfully installed imageio-2.33.1 pyvirtualdisplay-3.0\r\n",
      "\r\n",
      "\u001B[1m[\u001B[0m\u001B[34;49mnotice\u001B[0m\u001B[1;39;49m]\u001B[0m\u001B[39;49m A new release of pip is available: \u001B[0m\u001B[31;49m23.3.1\u001B[0m\u001B[39;49m -> \u001B[0m\u001B[32;49m24.0\u001B[0m\r\n",
      "\u001B[1m[\u001B[0m\u001B[34;49mnotice\u001B[0m\u001B[1;39;49m]\u001B[0m\u001B[39;49m To update, run: \u001B[0m\u001B[32;49mpip install --upgrade pip\u001B[0m\r\n",
      "[sudo] password for asus: \r\n"
     ]
    }
   ]
  },
  {
   "cell_type": "code",
   "source": [
    "!pip install PyOpenGL"
   ],
   "metadata": {
    "colab": {
     "base_uri": "https://localhost:8080/"
    },
    "id": "u1fhkEYhAYPo",
    "outputId": "9324540f-b142-4b93-d8d0-3fea3611827c",
    "ExecuteTime": {
     "end_time": "2024-02-10T22:05:50.977548018Z",
     "start_time": "2024-02-10T22:05:44.089402468Z"
    }
   },
   "execution_count": 17,
   "outputs": [
    {
     "name": "stdout",
     "output_type": "stream",
     "text": [
      "Collecting PyOpenGL\r\n",
      "  Downloading PyOpenGL-3.1.7-py3-none-any.whl.metadata (3.2 kB)\r\n",
      "Downloading PyOpenGL-3.1.7-py3-none-any.whl (2.4 MB)\r\n",
      "\u001B[2K   \u001B[90m━━━━━━━━━━━━━━━━━━━━━━━━━━━━━━━━━━━━━━━━\u001B[0m \u001B[32m2.4/2.4 MB\u001B[0m \u001B[31m4.0 MB/s\u001B[0m eta \u001B[36m0:00:00\u001B[0ma \u001B[36m0:00:01\u001B[0m0m\r\n",
      "\u001B[?25hInstalling collected packages: PyOpenGL\r\n",
      "Successfully installed PyOpenGL-3.1.7\r\n",
      "\r\n",
      "\u001B[1m[\u001B[0m\u001B[34;49mnotice\u001B[0m\u001B[1;39;49m]\u001B[0m\u001B[39;49m A new release of pip is available: \u001B[0m\u001B[31;49m23.3.1\u001B[0m\u001B[39;49m -> \u001B[0m\u001B[32;49m24.0\u001B[0m\r\n",
      "\u001B[1m[\u001B[0m\u001B[34;49mnotice\u001B[0m\u001B[1;39;49m]\u001B[0m\u001B[39;49m To update, run: \u001B[0m\u001B[32;49mpip install --upgrade pip\u001B[0m\r\n"
     ]
    }
   ]
  },
  {
   "cell_type": "code",
   "source": [
    "!pip install gym pyvirtualdisplay\n",
    "\n",
    "from pyvirtualdisplay import Display\n",
    "import gym\n",
    "import numpy as np\n",
    "import cv2\n",
    "\n",
    "# Start virtual display\n",
    "display = Display(visible=0, size=(1400, 900))\n",
    "display.start()\n",
    "\n",
    "# Create Gym environment\n",
    "env = gym.make('CartPole-v0')\n",
    "\n",
    "# Define a function to record frames\n",
    "def record_frames(env):\n",
    "    frames = []\n",
    "    obs = env.reset()\n",
    "    while True:\n",
    "        frame = env.render(mode='rgb_array')\n",
    "        frames.append(frame)\n",
    "        policy = get_policy(model, obs)\n",
    "        action, log_probability_action = get_action(policy)\n",
    "        obs, reward, done, info = env.step(action)\n",
    "        if done:\n",
    "            break\n",
    "    return frames\n",
    "\n",
    "# Record frames for each episode\n",
    "num_episodes = 10\n",
    "all_frames = []\n",
    "for i in range(num_episodes):\n",
    "    frames = record_frames(env)\n",
    "    all_frames.extend(frames)\n",
    "\n",
    "# Close the environment\n",
    "env.close()\n",
    "\n",
    "# Stop virtual display\n",
    "display.stop()\n",
    "\n",
    "# Convert frames to a video\n",
    "height, width, _ = all_frames[0].shape\n",
    "fourcc = cv2.VideoWriter_fourcc(*'XVID')\n",
    "out = cv2.VideoWriter('video.avi', fourcc, 30.0, (width, height))\n",
    "for frame in all_frames:\n",
    "    out.write(frame)\n",
    "out.release()\n",
    "\n",
    "print(\"Video saved as video.avi\")\n"
   ],
   "metadata": {
    "colab": {
     "base_uri": "https://localhost:8080/",
     "height": 850
    },
    "id": "-urLAbBZ_gkH",
    "outputId": "816749c2-4957-493a-c07a-405a5a3e8fb0",
    "ExecuteTime": {
     "end_time": "2024-02-10T22:13:15.649573628Z",
     "start_time": "2024-02-10T22:13:05.225770926Z"
    }
   },
   "execution_count": 24,
   "outputs": [
    {
     "name": "stdout",
     "output_type": "stream",
     "text": [
      "Requirement already satisfied: gym in ./venv/lib/python3.8/site-packages (0.15.4)\r\n",
      "Requirement already satisfied: pyvirtualdisplay in ./venv/lib/python3.8/site-packages (3.0)\r\n",
      "Requirement already satisfied: scipy in ./venv/lib/python3.8/site-packages (from gym) (1.10.1)\r\n",
      "Requirement already satisfied: numpy>=1.10.4 in ./venv/lib/python3.8/site-packages (from gym) (1.24.4)\r\n",
      "Requirement already satisfied: six in ./venv/lib/python3.8/site-packages (from gym) (1.16.0)\r\n",
      "Requirement already satisfied: pyglet<=1.3.2,>=1.2.0 in ./venv/lib/python3.8/site-packages (from gym) (1.3.2)\r\n",
      "Requirement already satisfied: cloudpickle~=1.2.0 in ./venv/lib/python3.8/site-packages (from gym) (1.2.2)\r\n",
      "Requirement already satisfied: opencv-python in ./venv/lib/python3.8/site-packages (from gym) (4.9.0.80)\r\n",
      "Requirement already satisfied: future in ./venv/lib/python3.8/site-packages (from pyglet<=1.3.2,>=1.2.0->gym) (0.18.3)\r\n",
      "\r\n",
      "\u001B[1m[\u001B[0m\u001B[34;49mnotice\u001B[0m\u001B[1;39;49m]\u001B[0m\u001B[39;49m A new release of pip is available: \u001B[0m\u001B[31;49m23.3.1\u001B[0m\u001B[39;49m -> \u001B[0m\u001B[32;49m24.0\u001B[0m\r\n",
      "\u001B[1m[\u001B[0m\u001B[34;49mnotice\u001B[0m\u001B[1;39;49m]\u001B[0m\u001B[39;49m To update, run: \u001B[0m\u001B[32;49mpip install --upgrade pip\u001B[0m\r\n",
      "Video saved as video.avi\n"
     ]
    }
   ]
  },
  {
   "cell_type": "code",
   "source": [
    "import gym\n",
    "from gym.wrappers.monitoring.video_recorder import VideoRecorder\n",
    "import os\n",
    "from pyvirtualdisplay import Display\n",
    "from collections.abc import Iterable  # Import Iterable from collections.abc\n",
    "\n",
    "\n",
    "def record_video(env_name, video_name):\n",
    "    env = gym.make(env_name)\n",
    "    video_recorder = VideoRecorder(env, './' + video_name + '.mp4', enabled=True)\n",
    "    obs = env.reset()\n",
    "    while True:\n",
    "              video_recorder.capture_frame()\n",
    "              policy = get_policy(model, obs)\n",
    "              action, log_probability_action = get_action(policy)\n",
    "              obs, reward, done, info = env.step(action)\n",
    "              env.render(mode='rgb_array')\n",
    "              if done:\n",
    "                break\n",
    "    video_recorder.close()\n",
    "\n",
    "record_video('CartPole-v0', 'cartpole_video')"
   ],
   "metadata": {
    "colab": {
     "base_uri": "https://localhost:8080/",
     "height": 689
    },
    "id": "JPl2uQvt-W6i",
    "outputId": "6d4de8b9-0fa0-4dd3-a92c-d49d4636942e",
    "ExecuteTime": {
     "end_time": "2024-02-10T22:13:57.594458189Z",
     "start_time": "2024-02-10T22:13:55.765317956Z"
    }
   },
   "execution_count": 27,
   "outputs": []
  },
  {
   "cell_type": "code",
   "outputs": [],
   "source": [],
   "metadata": {
    "collapsed": false
   }
  }
 ]
}
